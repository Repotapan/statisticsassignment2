{
 "cells": [
  {
   "cell_type": "markdown",
   "id": "02e55ea9-f2d9-4429-8763-8066bc8ef3f9",
   "metadata": {},
   "source": [
    "Q1. What are the three measures of central tendency?"
   ]
  },
  {
   "cell_type": "markdown",
   "id": "4c26df68-ee79-4cad-9cbe-2f86bb4d461c",
   "metadata": {},
   "source": [
    "The three measures of central tendency are mean,median,mode."
   ]
  },
  {
   "cell_type": "markdown",
   "id": "a51acf54-0c8a-4679-9fd7-53ebafbe6dc5",
   "metadata": {},
   "source": [
    "Q2. What is the difference between the mean, median, and mode? How are they used to measure the\n",
    "central tendency of a dataset?"
   ]
  },
  {
   "cell_type": "markdown",
   "id": "ebc3e94d-9b0a-48a5-8177-62f0dc84798c",
   "metadata": {},
   "source": [
    "The mean, median, and mode are three commonly used measures of central tendency that are used to describe the typical value or central value in a dataset.\n",
    "\n",
    "The mean is the arithmetic average of a set of numbers, obtained by adding up all the values and dividing by the number of values. It is very sensitive to outliers or extreme values in the data set, which can skew the value significantly.\n",
    "\n",
    "The median is the middle value in a set of data when the values are arranged in order from lowest to highest. It is not affected by outliers, making it a better measure of central tendency for datasets with extreme values.\n",
    "\n",
    "The mode is the value that appears most frequently in a set of data. It is useful for finding the most common value in a set, but it may not be a good measure of central tendency if there are multiple modes or if the data is continuous and does not have clearly defined modes.\n",
    "\n",
    "To measure the central tendency of a dataset, we can use any of these three measures. The choice of measure depends on the type of data and the purpose of the analysis. For example, if the data set contains a few extreme values, the median is a better measure of central tendency than the mean. If the data set contains discrete values, the mode may be the most appropriate measure of central tendency. In general, it's a good practice to report multiple measures of central tendency to give a more complete picture of the dataset."
   ]
  },
  {
   "cell_type": "markdown",
   "id": "8e1a2ed3-3c72-4dca-916b-8297c7ef0fcc",
   "metadata": {},
   "source": [
    "Q3. Measure the three measures of central tendency for the given height data?\n",
    "[178,177,176,177,178.2,178,175,179,180,175,178.9,176.2,177,172.5,178,176.5]"
   ]
  },
  {
   "cell_type": "code",
   "execution_count": 4,
   "id": "79c7f9fa-c252-4913-8281-aa7d2f4e5e8e",
   "metadata": {},
   "outputs": [],
   "source": [
    "import numpy as np"
   ]
  },
  {
   "cell_type": "code",
   "execution_count": 6,
   "id": "541b9eec-b502-4b1c-b773-d35d4e6bd8a3",
   "metadata": {},
   "outputs": [
    {
     "data": {
      "text/plain": [
       "177.01875"
      ]
     },
     "execution_count": 6,
     "metadata": {},
     "output_type": "execute_result"
    }
   ],
   "source": [
    "x=[178,177,176,177,178.2,178,175,179,180,175,178.9,176.2,177,172.5,178,176.5]\n",
    "np.mean(x)"
   ]
  },
  {
   "cell_type": "code",
   "execution_count": 7,
   "id": "a40b89c6-8a6c-4b86-acba-059ffbc96224",
   "metadata": {},
   "outputs": [
    {
     "data": {
      "text/plain": [
       "177.0"
      ]
     },
     "execution_count": 7,
     "metadata": {},
     "output_type": "execute_result"
    }
   ],
   "source": [
    "np.median(x)"
   ]
  },
  {
   "cell_type": "code",
   "execution_count": 9,
   "id": "a15d11b2-cdb9-4076-bd52-b77f2bf717f2",
   "metadata": {},
   "outputs": [],
   "source": [
    "from scipy import stats as st"
   ]
  },
  {
   "cell_type": "code",
   "execution_count": 10,
   "id": "b23d463c-8e60-4aec-b2a8-60bacb3a3c6c",
   "metadata": {},
   "outputs": [
    {
     "name": "stderr",
     "output_type": "stream",
     "text": [
      "/tmp/ipykernel_98/1272471208.py:1: FutureWarning: Unlike other reduction functions (e.g. `skew`, `kurtosis`), the default behavior of `mode` typically preserves the axis it acts along. In SciPy 1.11.0, this behavior will change: the default value of `keepdims` will become False, the `axis` over which the statistic is taken will be eliminated, and the value None will no longer be accepted. Set `keepdims` to True or False to avoid this warning.\n",
      "  st.mode(x)\n"
     ]
    },
    {
     "data": {
      "text/plain": [
       "ModeResult(mode=array([177.]), count=array([3]))"
      ]
     },
     "execution_count": 10,
     "metadata": {},
     "output_type": "execute_result"
    }
   ],
   "source": [
    "st.mode(x)"
   ]
  },
  {
   "cell_type": "markdown",
   "id": "66ecd4bd-8d60-4752-9570-a2f6d9bb6953",
   "metadata": {},
   "source": [
    "Q4. Find the standard deviation for the given data?\n",
    "[178,177,176,177,178.2,178,175,179,180,175,178.9,176.2,177,172.5,178,176.5]"
   ]
  },
  {
   "cell_type": "code",
   "execution_count": 1,
   "id": "debf78ac-0330-4efc-8512-61b602f3bda6",
   "metadata": {},
   "outputs": [],
   "source": [
    "import numpy as np"
   ]
  },
  {
   "cell_type": "code",
   "execution_count": 2,
   "id": "7c4cd150-b45d-442e-8295-64feab73526a",
   "metadata": {},
   "outputs": [],
   "source": [
    "x=[178,177,176,177,178.2,178,175,179,180,175,178.9,176.2,177,172.5,178,176.5]"
   ]
  },
  {
   "cell_type": "code",
   "execution_count": 3,
   "id": "cb715570-728a-43f1-be5b-918b4e6ad604",
   "metadata": {},
   "outputs": [
    {
     "data": {
      "text/plain": [
       "1.7885814036548633"
      ]
     },
     "execution_count": 3,
     "metadata": {},
     "output_type": "execute_result"
    }
   ],
   "source": [
    "np.std(x)"
   ]
  },
  {
   "cell_type": "markdown",
   "id": "c66f39c7-63ab-4465-ba3e-8c9ab2af8140",
   "metadata": {},
   "source": [
    "Q5. How are measures of dispersion such as range, variance, and standard deviation used to describe\n",
    "the spread of a dataset? Provide an example?"
   ]
  },
  {
   "cell_type": "markdown",
   "id": "c221cc7f-3050-4421-8367-d6bc44c761ae",
   "metadata": {},
   "source": [
    "Measures of dispersion are used to describe how spread out the data points are in a dataset. There are several measures of dispersion, including range, variance, and standard deviation.\n",
    "\n",
    "Range: The range is the difference between the highest and lowest values in a dataset. It provides a rough estimate of the spread of the data, but it is heavily influenced by outliers. For example, if a dataset contains the values {2, 4, 5, 8, 12}, the range is 12 - 2 = 10.\n",
    "\n",
    "Variance: The variance is the average of the squared differences between each data point and the mean of the dataset. It measures how far the data points are from the mean. A higher variance indicates that the data is more spread out. For example, if a dataset contains the values {2, 4, 5, 8, 12}, the variance can be calculated as:\n",
    "\n",
    "Variance = [(2-6.2)² + (4-6.2)² + (5-6.2)² + (8-6.2)² + (12-6.2)²] / 5\n",
    "= 13.36\n",
    "\n",
    "Standard Deviation: The standard deviation is the square root of the variance. It provides a more intuitive measure of dispersion, as it is in the same units as the data. A higher standard deviation indicates that the data is more spread out. For example, if a dataset contains the values {2, 4, 5, 8, 12}, the standard deviation can be calculated as:\n",
    "\n",
    "Standard Deviation = √13.36\n",
    "= 3.65\n",
    "\n",
    "In this example, the range is 10, the variance is 13.36, and the standard deviation is 3.65. These measures describe the spread of the data in different ways, with the range providing a rough estimate of the spread, while the variance and standard deviation provide a more precise measure of how far the data points are from the mean."
   ]
  },
  {
   "cell_type": "markdown",
   "id": "c70647d1-6b67-4273-9c58-5933f3d26ed4",
   "metadata": {},
   "source": [
    "Q6. What is a Venn diagram?"
   ]
  },
  {
   "cell_type": "markdown",
   "id": "24faafbd-e766-434c-a6e8-0a685674fd35",
   "metadata": {},
   "source": [
    "A Venn diagram is a graphical representation used to show the relationships between sets of data. It consists of overlapping circles or other shapes, each representing a set, with the overlapping parts representing the intersection of those sets. The Venn diagram is named after John Venn, a British mathematician who introduced the concept in the 1880s.\n",
    "\n",
    "Venn diagrams are often used in mathematics, logic, statistics, and other fields to visually illustrate relationships between sets. They are especially useful for understanding set theory concepts, such as union, intersection, and complement.\n",
    "\n",
    "The diagram consists of two or more circles or shapes that overlap, with each circle representing a set of objects or elements. The elements that are common to both sets are represented in the overlapping area, while the elements that are unique to each set are represented in the non-overlapping areas. The size of the circles can be used to represent the relative sizes of the sets or the number of elements they contain.\n",
    "\n",
    "Venn diagrams can be used to illustrate a wide range of concepts and relationships, including:\n",
    "\n",
    "Set operations, such as union, intersection, and complement\n",
    "Logical propositions, such as \"if A, then B\"\n",
    "Probability and statistics, such as conditional probability and independence\n",
    "Categorical data, such as the relationships between different groups of people, animals, or objects\n",
    "Overall, Venn diagrams are a powerful tool for visually representing complex relationships and concepts, making them useful in a variety of fields and applications."
   ]
  },
  {
   "cell_type": "markdown",
   "id": "2c7d6a96-ea51-46c7-af8e-3241f2db25ee",
   "metadata": {},
   "source": [
    "Q7. For the two given sets A = (2,3,4,5,6,7) & B = (0,2,6,8,10). Find:\n",
    "(i) A B\n",
    "(ii) A ⋃ B"
   ]
  },
  {
   "cell_type": "markdown",
   "id": "196b8150-641f-45d0-82fb-25c7afb54553",
   "metadata": {},
   "source": [
    "AnB={2,6}\n",
    "AuB={0,2,3,4,5,6,7,8,10}"
   ]
  },
  {
   "cell_type": "markdown",
   "id": "394b22de-d5a0-46c8-aba3-997b306dda0f",
   "metadata": {},
   "source": [
    "Q8. What do you understand about skewness in data?"
   ]
  },
  {
   "cell_type": "markdown",
   "id": "5a7041af-9458-498e-9a5b-7e0eb095cb90",
   "metadata": {},
   "source": [
    "Skewness is a measure of the asymmetry of a probability distribution or a dataset. A distribution or dataset is said to be skewed if it is not symmetrical, meaning that the data is not evenly distributed around the mean.\n",
    "\n",
    "Positive skewness occurs when the tail of the distribution is longer on the positive side than the negative side, meaning that the distribution has more values on the left side and a few extreme values on the right side. This can happen when the data contains outliers on the right side or when the majority of values are clustered around a smaller range of low values. The mean is greater than the median in a positively skewed distribution.\n",
    "\n",
    "Negative skewness occurs when the tail of the distribution is longer on the negative side than the positive side, meaning that the distribution has more values on the right side and a few extreme values on the left side. This can happen when the data contains outliers on the left side or when the majority of values are clustered around a smaller range of high values. The mean is less than the median in a negatively skewed distribution.\n",
    "\n",
    "Skewness is important to consider when analyzing data because it affects the interpretation of statistical measures, such as the mean and standard deviation. In skewed datasets, the mean may not accurately represent the central tendency of the data, and the standard deviation may not accurately represent the spread of the data. Therefore, it is important to look at other measures, such as the median or interquartile range, to better understand the distribution of the data.\n",
    "\n",
    "\n",
    "\n"
   ]
  },
  {
   "cell_type": "markdown",
   "id": "673f96fb-c43d-4fd9-b1b6-91a8305493da",
   "metadata": {},
   "source": [
    "Q9. If a data is right skewed then what will be the position of median with respect to mean?"
   ]
  },
  {
   "cell_type": "markdown",
   "id": "9b9b5337-c553-4f4e-9ef5-325d9de6e1bc",
   "metadata": {},
   "source": [
    "If a data set is right skewed, the median will be less than the mean. This is because in a right-skewed distribution, the tail of the distribution is longer on the right side, and there are a few extreme values on the right side. These extreme values can greatly increase the mean, but have less effect on the median, which is the value that splits the data in half.\n",
    "\n",
    "For example, consider a dataset of exam scores where most students scored in the range of 60-80, but a few students scored very high (e.g. 95, 98) and pulled the mean up to 85. In this case, the distribution is right-skewed because the tail is longer on the right side due to the few high scores. The median, which is the score that splits the dataset in half, will be less than the mean of 85.\n",
    "\n",
    "Therefore, in a right-skewed distribution, the median will be closer to the lower end of the dataset, while the mean will be closer to the higher end of the dataset."
   ]
  },
  {
   "cell_type": "markdown",
   "id": "ce52c22e-857e-42cf-82a9-59bc2e4be04f",
   "metadata": {},
   "source": [
    "Q10. Explain the difference between covariance and correlation. How are these measures used in\n",
    "statistical analysis?"
   ]
  },
  {
   "cell_type": "markdown",
   "id": "cb9ee74f-e241-4562-a09c-cf61edf4c260",
   "metadata": {},
   "source": [
    "Covariance and correlation are both measures of the relationship between two variables in a dataset, but they differ in their interpretation and scale of measurement.\n",
    "\n",
    "Covariance is a measure of how much two variables vary together. It measures the extent to which changes in one variable are associated with changes in another variable. A positive covariance indicates that the variables tend to move in the same direction, while a negative covariance indicates that they tend to move in opposite directions. However, the magnitude of covariance depends on the scale of measurement of the variables, making it difficult to compare covariances between datasets that have different scales.\n",
    "\n",
    "Correlation, on the other hand, is a standardized measure of the relationship between two variables. It measures the strength and direction of the linear relationship between two variables, with values ranging from -1 (perfect negative correlation) to 1 (perfect positive correlation), with 0 indicating no correlation. Correlation is not affected by differences in scale of measurement, making it a more useful measure for comparing relationships between variables in different datasets.\n",
    "\n",
    "Both covariance and correlation are used in statistical analysis to study the relationship between two variables. In regression analysis, for example, covariance and correlation are used to determine the extent to which changes in one variable can be explained by changes in another variable. They are also used in exploratory data analysis to identify patterns and relationships in the data, and in hypothesis testing to determine whether the observed relationship between variables is statistically significant.\n",
    "\n",
    "In general, correlation is a more commonly used measure than covariance due to its standardized scale and ease of interpretation, but covariance can still be useful in certain situations where the scale of measurement is important or when calculating other statistical measures such as variance and standard deviation."
   ]
  },
  {
   "cell_type": "markdown",
   "id": "5c17ee85-3289-40c1-bf9d-622acdc98ed5",
   "metadata": {},
   "source": [
    "Q11. What is the formula for calculating the sample mean? Provide an example calculation for a\n",
    "dataset?"
   ]
  },
  {
   "cell_type": "markdown",
   "id": "b9590278-bfc3-4eca-813e-e655ba6be0e7",
   "metadata": {},
   "source": [
    "The formula of sample mean(x̄) = (x1 + x2 + ... + xn) / n\n",
    "where x̄ is the sample mean, xi is the value of the ith observation in the dataset, and n is the number of observations in the dataset.\n"
   ]
  },
  {
   "cell_type": "markdown",
   "id": "87fd5ea9-b02f-4138-bf5e-71d55252a9e1",
   "metadata": {},
   "source": [
    "As an example, let's say we have a dataset of exam scores for 8 students:"
   ]
  },
  {
   "cell_type": "markdown",
   "id": "dc62a1be-4539-43e3-9f9e-19fb4b9d57f3",
   "metadata": {},
   "source": [
    "70, 80, 75, 85, 90, 60, 65, 80\n",
    "70 + 80 + 75 + 85 + 90 + 60 + 65 + 80 = 605\n",
    "605 / 8 = 75.625\n",
    "\n"
   ]
  },
  {
   "cell_type": "markdown",
   "id": "b00eaef2-d915-4268-82f6-32421e7ce3eb",
   "metadata": {},
   "source": [
    "Q12. For a normal distribution data what is the relationship between its measure of central tendency?"
   ]
  },
  {
   "cell_type": "markdown",
   "id": "bc5fa408-700e-4784-ac01-3c44cf086a66",
   "metadata": {},
   "source": [
    "The relation between its measure of central tendency is mean=median=mode ."
   ]
  },
  {
   "cell_type": "markdown",
   "id": "95f17614-c9f2-4566-a576-f797d15d4a6b",
   "metadata": {},
   "source": [
    "Q13. How is covariance different from correlation?"
   ]
  },
  {
   "cell_type": "markdown",
   "id": "9ffd592c-85fa-4ea9-bfc0-af4d7cff9925",
   "metadata": {},
   "source": [
    "Covariance and correlation are both measures of the relationship between two variables in a dataset, but they differ in their interpretation and scale of measurement.\n",
    "\n",
    "Covariance measures the extent to which changes in one variable are associated with changes in another variable. A positive covariance indicates that the variables tend to move in the same direction, while a negative covariance indicates that they tend to move in opposite directions. However, the magnitude of covariance depends on the scale of measurement of the variables, making it difficult to compare covariances between datasets that have different scales.\n",
    "\n",
    "Correlation, on the other hand, is a standardized measure of the relationship between two variables. It measures the strength and direction of the linear relationship between two variables, with values ranging from -1 (perfect negative correlation) to 1 (perfect positive correlation), with 0 indicating no correlation. Correlation is not affected by differences in scale of measurement, making it a more useful measure for comparing relationships between variables in different datasets.\n",
    "\n",
    "To summarize, covariance measures the degree to which two variables vary together, while correlation measures the strength and direction of the linear relationship between two variables. Covariance is affected by the scale of measurement of the variables, while correlation is a standardized measure that is not affected by differences in scale of measurement.\n",
    "\n",
    "\n",
    "\n"
   ]
  },
  {
   "cell_type": "markdown",
   "id": "982b3032-799f-4e99-b845-f706e6b14d49",
   "metadata": {},
   "source": [
    "Q14. How do outliers affect measures of central tendency and dispersion? Provide an example?"
   ]
  },
  {
   "cell_type": "markdown",
   "id": "e9880a24-9bc8-427f-b07e-fee1ffd32fed",
   "metadata": {},
   "source": [
    "Outliers are data points that are significantly different from the other observations in a dataset. They can have a large impact on measures of central tendency and dispersion.\n",
    "\n",
    "Measures of central tendency, such as the mean and median, can be influenced by outliers. If a dataset contains one or more extreme values, the mean can be skewed in the direction of the outliers. This is because the mean takes into account the value of every observation in the dataset, and outliers can significantly affect its value. The median, on the other hand, is less affected by outliers because it only considers the middle value(s) of the dataset.\n",
    "\n",
    "Outliers can also have a significant impact on measures of dispersion, such as the range, variance, and standard deviation. The range is the difference between the maximum and minimum values in a dataset, and it can be greatly influenced by outliers. The variance and standard deviation are measures of how much the data points deviate from the mean, and they can also be influenced by outliers. This is because these measures are calculated by squaring the difference between each data point and the mean, and outliers can have a large difference from the mean.\n",
    "\n",
    "As an example, consider the following dataset of test scores for a class of 20 students:\n",
    "\n",
    "85, 90, 95, 80, 88, 92, 89, 91, 90, 92, 82, 91, 90, 87, 89, 85, 87, 91, 93, 20\n",
    "\n",
    "In this dataset, the value of 20 is an outlier, as it is significantly lower than the other scores. If we calculate the mean test score, we get:\n",
    "\n",
    "(85+90+95+80+88+92+89+91+90+92+82+91+90+87+89+85+87+91+93+20)/20 = 83.5\n",
    "\n",
    "As we can see, the mean test score has been significantly affected by the outlier value of 20. If we calculate the median test score instead, we get:\n",
    "\n",
    "85, 85, 87, 87, 88, 89, 89, 90, 90, 90, 91, 91, 91, 92, 92, 93, 95\n",
    "\n",
    "The median test score is 90, which is less affected by the outlier value. The range of the dataset is 75 (95-20), which is greatly influenced by the outlier. The variance and standard deviation of the dataset are also affected by the outlier, as they take into account the squared differences between each data point and the mean."
   ]
  },
  {
   "cell_type": "code",
   "execution_count": null,
   "id": "7d2a91fd-fb98-486f-8f46-944dddafdcb1",
   "metadata": {},
   "outputs": [],
   "source": []
  }
 ],
 "metadata": {
  "kernelspec": {
   "display_name": "Python 3 (ipykernel)",
   "language": "python",
   "name": "python3"
  },
  "language_info": {
   "codemirror_mode": {
    "name": "ipython",
    "version": 3
   },
   "file_extension": ".py",
   "mimetype": "text/x-python",
   "name": "python",
   "nbconvert_exporter": "python",
   "pygments_lexer": "ipython3",
   "version": "3.10.8"
  }
 },
 "nbformat": 4,
 "nbformat_minor": 5
}
